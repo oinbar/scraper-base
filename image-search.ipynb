{
 "cells": [
  {
   "cell_type": "code",
   "execution_count": 6,
   "metadata": {},
   "outputs": [
    {
     "name": "stdout",
     "output_type": "stream",
     "text": [
      "\u001b[2J\u001b[1;1HTraceback (most recent call last):\n",
      "  File \"/opt/conda/bin/gimages\", line 10, in <module>\n",
      "    sys.exit(cli())\n",
      "  File \"/opt/conda/lib/python3.7/site-packages/click/core.py\", line 764, in __call__\n",
      "    return self.main(*args, **kwargs)\n",
      "  File \"/opt/conda/lib/python3.7/site-packages/click/core.py\", line 717, in main\n",
      "    rv = self.invoke(ctx)\n",
      "  File \"/opt/conda/lib/python3.7/site-packages/click/core.py\", line 1137, in invoke\n",
      "    return _process_result(sub_ctx.command.invoke(sub_ctx))\n",
      "  File \"/opt/conda/lib/python3.7/site-packages/click/core.py\", line 956, in invoke\n",
      "    return ctx.invoke(self.callback, **ctx.params)\n",
      "  File \"/opt/conda/lib/python3.7/site-packages/click/core.py\", line 555, in invoke\n",
      "    return callback(*args, **kwargs)\n",
      "  File \"/opt/conda/lib/python3.7/site-packages/click/decorators.py\", line 17, in new_func\n",
      "    return f(get_current_context(), *args, **kwargs)\n",
      "  File \"/opt/conda/lib/python3.7/site-packages/google_images_search/cli.py\", line 61, in search\n",
      "    ctx.obj['object'].search(search_params, download_path, width, height)\n",
      "  File \"/opt/conda/lib/python3.7/site-packages/google_images_search/fetch_resize_save.py\", line 55, in search\n",
      "    search_params, cache_discovery\n",
      "  File \"/opt/conda/lib/python3.7/site-packages/google_images_search/google_api.py\", line 77, in search\n",
      "    res = self._query_google_api(search_params, cache_discovery)\n",
      "  File \"/opt/conda/lib/python3.7/site-packages/google_images_search/google_api.py\", line 42, in _query_google_api\n",
      "    cache_discovery=cache_discovery)\n",
      "  File \"/opt/conda/lib/python3.7/site-packages/googleapiclient/_helpers.py\", line 130, in positional_wrapper\n",
      "    return wrapped(*args, **kwargs)\n",
      "  File \"/opt/conda/lib/python3.7/site-packages/googleapiclient/discovery.py\", line 231, in build\n",
      "    raise e\n",
      "  File \"/opt/conda/lib/python3.7/site-packages/googleapiclient/discovery.py\", line 223, in build\n",
      "    requested_url, discovery_http, cache_discovery, cache, developerKey)\n",
      "  File \"/opt/conda/lib/python3.7/site-packages/googleapiclient/discovery.py\", line 276, in _retrieve_discovery_doc\n",
      "    raise HttpError(resp, content, uri=actual_url)\n",
      "googleapiclient.errors.HttpError: <HttpError 400 when requesting https://www.googleapis.com/discovery/v1/apis/customsearch/v1/rest?key=%2Fsecrets%2Fgoogle-service-account-key.json returned \"Bad Request\">\n"
     ]
    }
   ],
   "source": [
    "!gimages -k /secrets/google-service-account-key.json -c gal-wordpress-cdn search -q puppies"
   ]
  },
  {
   "cell_type": "code",
   "execution_count": null,
   "metadata": {},
   "outputs": [],
   "source": []
  }
 ],
 "metadata": {
  "kernelspec": {
   "display_name": "Python 3",
   "language": "python",
   "name": "python3"
  },
  "language_info": {
   "codemirror_mode": {
    "name": "ipython",
    "version": 3
   },
   "file_extension": ".py",
   "mimetype": "text/x-python",
   "name": "python",
   "nbconvert_exporter": "python",
   "pygments_lexer": "ipython3",
   "version": "3.7.3"
  }
 },
 "nbformat": 4,
 "nbformat_minor": 2
}
