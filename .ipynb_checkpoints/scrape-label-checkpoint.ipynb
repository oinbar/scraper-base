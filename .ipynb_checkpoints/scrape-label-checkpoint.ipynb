{
 "cells": [
  {
   "cell_type": "code",
   "execution_count": 10,
   "metadata": {},
   "outputs": [
    {
     "name": "stderr",
     "output_type": "stream",
     "text": [
      "/opt/conda/lib/python3.7/site-packages/ipykernel_launcher.py:13: DeprecationWarning: use options instead of chrome_options\n",
      "  del sys.path[0]\n"
     ]
    }
   ],
   "source": [
    "import os\n",
    "from selenium import webdriver\n",
    "from selenium.webdriver.chrome.options import Options\n",
    "from bs4 import BeautifulSoup\n",
    "import re\n",
    "import pandas as pd\n",
    "\n",
    "def initalize_driver():\n",
    "    chrome_options = Options()\n",
    "    chrome_options.add_argument('--headless')\n",
    "    chrome_options.add_argument('--no-sandbox')\n",
    "    chrome_options.add_argument('--disable-dev-shm-usage')\n",
    "    driver = webdriver.Chrome(chrome_options=chrome_options)\n",
    "    return driver\n",
    "\n",
    "driver = initalize_driver()\n",
    "base_url = \"https://www.personality-database.com/\"\n",
    "\n",
    "def get_page_contents(driver, url):\n",
    "    driver.get(url)\n",
    "    return driver.page_source\n",
    "\n",
    "def get_categories_pages(driver, base_url):\n",
    "    page = get_page_contents(driver, base_url)\n",
    "    soup = BeautifulSoup(page, 'html.parser')\n",
    "    a = soup.find(\"div\", {\"id\": \"categories\"})\n",
    "    a1 = str(a).split(\"Real Profiles\")[-1].split(\"Fictional Profiles\")[0]\n",
    "    a1 = BeautifulSoup(a1, 'html.parser')\n",
    "    a1 = a1.find_all(\"a\")\n",
    "    a1 = list(map(lambda x: re.findall(r'\"/(.*?)\"', str(x)), a1))\n",
    "    cats = [base_url + c[0] for c in a1]\n",
    "    return cats\n",
    "\n",
    "def get_subcategories(driver, category_url):\n",
    "    page = get_page_contents(driver, category_url)    \n",
    "    soup = BeautifulSoup(page)\n",
    "    a = soup.find_all(\"div\", {\"id\" : re.compile(re.compile('^subcat-item.*'))})\n",
    "    print(a1)\n",
    "    a1 = list(map(lambda x: x.find_all(\"a\"), a))\n",
    "    a1 = list(map(lambda x: re.findall(r'\"/(.*?)\"', str(x)), a1))    \n",
    "    sub_cats = [base_url + c[0] for c in a1]    \n",
    "    return sub_cats\n",
    "\n",
    "def get_profiles(driver, subcategory_url):\n",
    "    page = get_page_contents(driver, subcategory_url)    \n",
    "    soup = BeautifulSoup(page)\n",
    "    a = soup.find_all(\"span\", {\"class\" : re.compile(re.compile('^profile-container.*'))})\n",
    "    a1 = list(map(lambda x: x.find_all(\"a\"), a))\n",
    "    a1 = list(map(lambda x: re.findall(r'\"/(.*?)\"', str(x)), a1))    \n",
    "    profiles = [base_url + c[0] for c in a1]    \n",
    "    return profiles"
   ]
  },
  {
   "cell_type": "code",
   "execution_count": 3,
   "metadata": {},
   "outputs": [
    {
     "ename": "IndexError",
     "evalue": "list index out of range",
     "output_type": "error",
     "traceback": [
      "\u001b[0;31m---------------------------------------------------------------------------\u001b[0m",
      "\u001b[0;31mIndexError\u001b[0m                                Traceback (most recent call last)",
      "\u001b[0;32m<ipython-input-3-4262e539c98b>\u001b[0m in \u001b[0;36m<module>\u001b[0;34m\u001b[0m\n\u001b[1;32m      1\u001b[0m \u001b[0mcategories\u001b[0m \u001b[0;34m=\u001b[0m \u001b[0mget_categories_pages\u001b[0m\u001b[0;34m(\u001b[0m\u001b[0mdriver\u001b[0m\u001b[0;34m,\u001b[0m \u001b[0mbase_url\u001b[0m\u001b[0;34m)\u001b[0m\u001b[0;34m\u001b[0m\u001b[0;34m\u001b[0m\u001b[0m\n\u001b[1;32m      2\u001b[0m \u001b[0;34m\u001b[0m\u001b[0m\n\u001b[0;32m----> 3\u001b[0;31m \u001b[0msub_cats\u001b[0m \u001b[0;34m=\u001b[0m \u001b[0mget_subcategories\u001b[0m\u001b[0;34m(\u001b[0m\u001b[0mdriver\u001b[0m\u001b[0;34m,\u001b[0m \u001b[0mcategories\u001b[0m\u001b[0;34m[\u001b[0m\u001b[0;36m1\u001b[0m\u001b[0;34m]\u001b[0m\u001b[0;34m)\u001b[0m\u001b[0;34m\u001b[0m\u001b[0;34m\u001b[0m\u001b[0m\n\u001b[0m",
      "\u001b[0;31mIndexError\u001b[0m: list index out of range"
     ]
    }
   ],
   "source": [
    "# categories = get_categories_pages(driver, base_url)\n",
    "\n",
    "# sub_cats = get_subcategories(driver, categories[1])"
   ]
  },
  {
   "cell_type": "code",
   "execution_count": null,
   "metadata": {},
   "outputs": [],
   "source": [
    "# profiles = get_profiles(driver, sub_cats[0])"
   ]
  },
  {
   "cell_type": "code",
   "execution_count": 5,
   "metadata": {},
   "outputs": [
    {
     "name": "stdout",
     "output_type": "stream",
     "text": [
      "https://www.personality-database.com/category/1/Pop-Culture/mbti-personality-type []\n",
      "https://www.personality-database.com/category/10/Noteworthy/mbti-personality-type []\n",
      "https://www.personality-database.com/category/14/Music/mbti-personality-type []\n",
      "https://www.personality-database.com/category/6/Political/mbti-personality-type []\n",
      "https://www.personality-database.com/category/5/Sports/mbti-personality-type []\n",
      "https://www.personality-database.com/category/16/The-Arts/mbti-personality-type []\n",
      "https://www.personality-database.com/category/21/Science/mbti-personality-type []\n",
      "https://www.personality-database.com/category/17/Business/mbti-personality-type []\n",
      "https://www.personality-database.com/category/18/Religion/mbti-personality-type []\n",
      "https://www.personality-database.com/category/22/Historical/mbti-personality-type []\n",
      "https://www.personality-database.com/category/15/Internet/mbti-personality-type []\n"
     ]
    }
   ],
   "source": [
    "def make_categories_df(driver, base_url):\n",
    "    categories = get_categories_pages(driver, base_url)\n",
    "    cats, subcats = [], []\n",
    "    for c in categories:\n",
    "        sub_cats = get_subcategories(driver, c)\n",
    "        print(c, sub_cats)\n",
    "        cats += [c]*len(subcats)\n",
    "        subcats += subcats\n",
    "    df = pd.DataFrame({\"category\":cats,\"subcategory\":subcats})\n",
    "    return df\n",
    "\n",
    "df = make_categories_df(driver, base_url)"
   ]
  },
  {
   "cell_type": "code",
   "execution_count": 6,
   "metadata": {},
   "outputs": [
    {
     "data": {
      "text/html": [
       "<div>\n",
       "<style scoped>\n",
       "    .dataframe tbody tr th:only-of-type {\n",
       "        vertical-align: middle;\n",
       "    }\n",
       "\n",
       "    .dataframe tbody tr th {\n",
       "        vertical-align: top;\n",
       "    }\n",
       "\n",
       "    .dataframe thead th {\n",
       "        text-align: right;\n",
       "    }\n",
       "</style>\n",
       "<table border=\"1\" class=\"dataframe\">\n",
       "  <thead>\n",
       "    <tr style=\"text-align: right;\">\n",
       "      <th></th>\n",
       "      <th>category</th>\n",
       "      <th>subcategory</th>\n",
       "    </tr>\n",
       "  </thead>\n",
       "  <tbody>\n",
       "  </tbody>\n",
       "</table>\n",
       "</div>"
      ],
      "text/plain": [
       "Empty DataFrame\n",
       "Columns: [category, subcategory]\n",
       "Index: []"
      ]
     },
     "execution_count": 6,
     "metadata": {},
     "output_type": "execute_result"
    }
   ],
   "source": [
    "df"
   ]
  },
  {
   "cell_type": "code",
   "execution_count": 11,
   "metadata": {},
   "outputs": [
    {
     "name": "stdout",
     "output_type": "stream",
     "text": [
      "[]\n"
     ]
    },
    {
     "data": {
      "text/plain": [
       "[]"
      ]
     },
     "execution_count": 11,
     "metadata": {},
     "output_type": "execute_result"
    }
   ],
   "source": [
    "get_subcategories(driver, \"https://www.personality-database.com/category/1/Pop-Culture/mbti-personality-type\")"
   ]
  },
  {
   "cell_type": "code",
   "execution_count": 146,
   "metadata": {},
   "outputs": [],
   "source": []
  },
  {
   "cell_type": "code",
   "execution_count": 147,
   "metadata": {},
   "outputs": [
    {
     "name": "stderr",
     "output_type": "stream",
     "text": [
      "/opt/conda/lib/python3.7/site-packages/ipykernel_launcher.py:12: DeprecationWarning: use options instead of chrome_options\n",
      "  if sys.path[0] == '':\n"
     ]
    }
   ],
   "source": []
  },
  {
   "cell_type": "code",
   "execution_count": 172,
   "metadata": {},
   "outputs": [],
   "source": [
    "# driver = initalize_driver()\n",
    "page = get_page_contents(driver, \"https://www.personality-database.com/category/10/Noteworthy/mbti-personality-type\")\n",
    "soup = BeautifulSoup(page)\n",
    "a = soup.find_all(\"div\", {\"id\" : re.compile(re.compile('^subcat-item.*'))})\n",
    "a1 = list(map(lambda x: x.find(\"a\"), a))\n",
    "a1 = list(map(lambda x: re.findall(r'\"/(.*?)\"', str(x)), a1))"
   ]
  },
  {
   "cell_type": "code",
   "execution_count": 173,
   "metadata": {},
   "outputs": [
    {
     "data": {
      "text/plain": [
       "[['subcategory/270/activists-noteworthy-mbti-personality-type'],\n",
       " ['subcategory/94/criminals-noteworthy-mbti-personality-type'],\n",
       " ['subcategory/4616/educators-noteworthy-mbti-personality-type'],\n",
       " ['subcategory/635/mythical-noteworthy-mbti-personality-type'],\n",
       " ['subcategory/350/news-journalists-noteworthy-mbti-personality-type'],\n",
       " ['subcategory/2570/people-of-law-noteworthy-mbti-personality-type'],\n",
       " ['subcategory/3097/technology-gaming-noteworthy-mbti-personality-type']]"
      ]
     },
     "execution_count": 173,
     "metadata": {},
     "output_type": "execute_result"
    }
   ],
   "source": [
    "a1"
   ]
  },
  {
   "cell_type": "code",
   "execution_count": null,
   "metadata": {},
   "outputs": [],
   "source": []
  }
 ],
 "metadata": {
  "kernelspec": {
   "display_name": "Python 3",
   "language": "python",
   "name": "python3"
  },
  "language_info": {
   "codemirror_mode": {
    "name": "ipython",
    "version": 3
   },
   "file_extension": ".py",
   "mimetype": "text/x-python",
   "name": "python",
   "nbconvert_exporter": "python",
   "pygments_lexer": "ipython3",
   "version": "3.7.3"
  }
 },
 "nbformat": 4,
 "nbformat_minor": 2
}
