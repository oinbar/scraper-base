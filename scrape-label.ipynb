{
 "cells": [
  {
   "cell_type": "code",
   "execution_count": 1,
   "metadata": {},
   "outputs": [
    {
     "name": "stderr",
     "output_type": "stream",
     "text": [
      "/opt/conda/lib/python3.7/site-packages/ipykernel_launcher.py:13: DeprecationWarning: use options instead of chrome_options\n",
      "  del sys.path[0]\n"
     ]
    }
   ],
   "source": [
    "import os\n",
    "from selenium import webdriver\n",
    "from selenium.webdriver.chrome.options import Options\n",
    "from bs4 import BeautifulSoup\n",
    "import re\n",
    "import pandas as pd\n",
    "\n",
    "def initalize_driver():\n",
    "    chrome_options = Options()\n",
    "    chrome_options.add_argument('--headless')\n",
    "    chrome_options.add_argument('--no-sandbox')\n",
    "    chrome_options.add_argument('--disable-dev-shm-usage')\n",
    "    driver = webdriver.Chrome(chrome_options=chrome_options)\n",
    "    return driver\n",
    "\n",
    "driver = initalize_driver()\n",
    "base_url = \"https://www.personality-database.com/\"\n",
    "\n",
    "def get_page_contents(driver, url):\n",
    "    driver.get(url)\n",
    "    return driver.page_source\n",
    "\n",
    "def get_category_urls(driver, base_url):\n",
    "    page = get_page_contents(driver, base_url)\n",
    "    soup = BeautifulSoup(page, 'html.parser')\n",
    "    a = soup.find(\"div\", {\"id\": \"categories\"})\n",
    "    a1 = str(a).split(\"Real Profiles\")[-1].split(\"Fictional Profiles\")[0]\n",
    "    a1 = BeautifulSoup(a1, 'html.parser')\n",
    "    a1 = a1.find_all(\"a\")\n",
    "    a1 = list(map(lambda x: re.findall(r'\"/(.*?)\"', str(x)), a1))\n",
    "    cats = [base_url + c[0] for c in a1]\n",
    "    return cats\n",
    "\n",
    "def get_subcategory_urls(driver, category_url):\n",
    "    page = get_page_contents(driver, category_url)    \n",
    "    soup = BeautifulSoup(page)\n",
    "    a = soup.find_all(\"div\", {\"id\" : re.compile(re.compile('^subcat-item.*'))})\n",
    "    a1 = list(map(lambda x: x.find_all(\"a\"), a))\n",
    "    a1 = list(map(lambda x: re.findall(r'\"/(.*?)\"', str(x)), a1))    \n",
    "    sub_cats = [base_url + c[0] for c in a1]    \n",
    "    return sub_cats\n",
    "\n",
    "def get_profiles_urls(driver, subcategory_url):\n",
    "    page = get_page_contents(driver, subcategory_url)    \n",
    "    soup = BeautifulSoup(page)\n",
    "    a = soup.find_all(\"span\", {\"class\" : re.compile(re.compile('^profile-container.*'))})\n",
    "    a1 = list(map(lambda x: x.find_all(\"a\"), a))\n",
    "    a1 = list(map(lambda x: re.findall(r'\"/(.*?)\"', str(x)), a1))    \n",
    "    profiles = [base_url + c[0] for c in a1]    \n",
    "    return profiles"
   ]
  },
  {
   "cell_type": "code",
   "execution_count": 2,
   "metadata": {},
   "outputs": [],
   "source": [
    "# categories = get_categories_pages(driver, base_url)\n",
    "\n",
    "# sub_cats = get_subcategories(driver, categories[1])"
   ]
  },
  {
   "cell_type": "code",
   "execution_count": 3,
   "metadata": {},
   "outputs": [],
   "source": [
    "# profiles = get_profiles(driver, sub_cats[0])"
   ]
  },
  {
   "cell_type": "code",
   "execution_count": 4,
   "metadata": {},
   "outputs": [
    {
     "data": {
      "text/html": [
       "<div>\n",
       "<style scoped>\n",
       "    .dataframe tbody tr th:only-of-type {\n",
       "        vertical-align: middle;\n",
       "    }\n",
       "\n",
       "    .dataframe tbody tr th {\n",
       "        vertical-align: top;\n",
       "    }\n",
       "\n",
       "    .dataframe thead th {\n",
       "        text-align: right;\n",
       "    }\n",
       "</style>\n",
       "<table border=\"1\" class=\"dataframe\">\n",
       "  <thead>\n",
       "    <tr style=\"text-align: right;\">\n",
       "      <th></th>\n",
       "      <th>category</th>\n",
       "      <th>subcategory</th>\n",
       "    </tr>\n",
       "  </thead>\n",
       "  <tbody>\n",
       "    <tr>\n",
       "      <th>0</th>\n",
       "      <td>https://www.personality-database.com/category/...</td>\n",
       "      <td>https://www.personality-database.com/subcatego...</td>\n",
       "    </tr>\n",
       "    <tr>\n",
       "      <th>1</th>\n",
       "      <td>https://www.personality-database.com/category/...</td>\n",
       "      <td>https://www.personality-database.com/subcatego...</td>\n",
       "    </tr>\n",
       "    <tr>\n",
       "      <th>2</th>\n",
       "      <td>https://www.personality-database.com/category/...</td>\n",
       "      <td>https://www.personality-database.com/subcatego...</td>\n",
       "    </tr>\n",
       "    <tr>\n",
       "      <th>3</th>\n",
       "      <td>https://www.personality-database.com/category/...</td>\n",
       "      <td>https://www.personality-database.com/subcatego...</td>\n",
       "    </tr>\n",
       "    <tr>\n",
       "      <th>4</th>\n",
       "      <td>https://www.personality-database.com/category/...</td>\n",
       "      <td>https://www.personality-database.com/subcatego...</td>\n",
       "    </tr>\n",
       "  </tbody>\n",
       "</table>\n",
       "</div>"
      ],
      "text/plain": [
       "                                            category  \\\n",
       "0  https://www.personality-database.com/category/...   \n",
       "1  https://www.personality-database.com/category/...   \n",
       "2  https://www.personality-database.com/category/...   \n",
       "3  https://www.personality-database.com/category/...   \n",
       "4  https://www.personality-database.com/category/...   \n",
       "\n",
       "                                         subcategory  \n",
       "0  https://www.personality-database.com/subcatego...  \n",
       "1  https://www.personality-database.com/subcatego...  \n",
       "2  https://www.personality-database.com/subcatego...  \n",
       "3  https://www.personality-database.com/subcatego...  \n",
       "4  https://www.personality-database.com/subcatego...  "
      ]
     },
     "execution_count": 4,
     "metadata": {},
     "output_type": "execute_result"
    }
   ],
   "source": [
    "def make_categories_df(driver, base_url):\n",
    "    cats = get_category_urls(driver, base_url)\n",
    "    categories, subcategories = [], []\n",
    "    for c in cats:\n",
    "        sub_cats = get_subcategory_urls(driver, c)\n",
    "        categories += [c]*len(sub_cats)\n",
    "        subcategories += sub_cats\n",
    "    df = pd.DataFrame({\"category\":categories,\"subcategory\":subcategories})\n",
    "    return df\n",
    "\n",
    "# categories_df = make_categories_df(driver, base_url)\n",
    "# categories_df.to_csv(\"data/categories.csv\", index=False)\n",
    "categories_df = pd.read_csv(\"data/categories.csv\")\n",
    "categories_df.head()"
   ]
  },
  {
   "cell_type": "code",
   "execution_count": 5,
   "metadata": {},
   "outputs": [
    {
     "data": {
      "text/html": [
       "<div>\n",
       "<style scoped>\n",
       "    .dataframe tbody tr th:only-of-type {\n",
       "        vertical-align: middle;\n",
       "    }\n",
       "\n",
       "    .dataframe tbody tr th {\n",
       "        vertical-align: top;\n",
       "    }\n",
       "\n",
       "    .dataframe thead th {\n",
       "        text-align: right;\n",
       "    }\n",
       "</style>\n",
       "<table border=\"1\" class=\"dataframe\">\n",
       "  <thead>\n",
       "    <tr style=\"text-align: right;\">\n",
       "      <th></th>\n",
       "      <th>category</th>\n",
       "      <th>subcategory</th>\n",
       "      <th>profile</th>\n",
       "    </tr>\n",
       "  </thead>\n",
       "  <tbody>\n",
       "    <tr>\n",
       "      <th>0</th>\n",
       "      <td>https://www.personality-database.com/category/...</td>\n",
       "      <td>https://www.personality-database.com/subcatego...</td>\n",
       "      <td>https://www.personality-database.com/profile/4...</td>\n",
       "    </tr>\n",
       "    <tr>\n",
       "      <th>1</th>\n",
       "      <td>https://www.personality-database.com/category/...</td>\n",
       "      <td>https://www.personality-database.com/subcatego...</td>\n",
       "      <td>https://www.personality-database.com/profile/7...</td>\n",
       "    </tr>\n",
       "    <tr>\n",
       "      <th>2</th>\n",
       "      <td>https://www.personality-database.com/category/...</td>\n",
       "      <td>https://www.personality-database.com/subcatego...</td>\n",
       "      <td>https://www.personality-database.com/profile/7...</td>\n",
       "    </tr>\n",
       "    <tr>\n",
       "      <th>3</th>\n",
       "      <td>https://www.personality-database.com/category/...</td>\n",
       "      <td>https://www.personality-database.com/subcatego...</td>\n",
       "      <td>https://www.personality-database.com/profile/7...</td>\n",
       "    </tr>\n",
       "    <tr>\n",
       "      <th>4</th>\n",
       "      <td>https://www.personality-database.com/category/...</td>\n",
       "      <td>https://www.personality-database.com/subcatego...</td>\n",
       "      <td>https://www.personality-database.com/profile/7...</td>\n",
       "    </tr>\n",
       "  </tbody>\n",
       "</table>\n",
       "</div>"
      ],
      "text/plain": [
       "                                            category  \\\n",
       "0  https://www.personality-database.com/category/...   \n",
       "1  https://www.personality-database.com/category/...   \n",
       "2  https://www.personality-database.com/category/...   \n",
       "3  https://www.personality-database.com/category/...   \n",
       "4  https://www.personality-database.com/category/...   \n",
       "\n",
       "                                         subcategory  \\\n",
       "0  https://www.personality-database.com/subcatego...   \n",
       "1  https://www.personality-database.com/subcatego...   \n",
       "2  https://www.personality-database.com/subcatego...   \n",
       "3  https://www.personality-database.com/subcatego...   \n",
       "4  https://www.personality-database.com/subcatego...   \n",
       "\n",
       "                                             profile  \n",
       "0  https://www.personality-database.com/profile/4...  \n",
       "1  https://www.personality-database.com/profile/7...  \n",
       "2  https://www.personality-database.com/profile/7...  \n",
       "3  https://www.personality-database.com/profile/7...  \n",
       "4  https://www.personality-database.com/profile/7...  "
      ]
     },
     "execution_count": 5,
     "metadata": {},
     "output_type": "execute_result"
    }
   ],
   "source": [
    "def make_profiles_df(driver, categories_df):\n",
    "    subcategories, profiles = [], []\n",
    "    for sc in categories_df[\"subcategory\"]:\n",
    "        profs = get_profiles_urls(driver, sc)\n",
    "        subcategories += [sc]*len(profs)\n",
    "        profiles += profs\n",
    "    df = pd.DataFrame({\"subcategory\":subcategories, \"profile\":profiles})\n",
    "    df = categories_df.merge(df, on=\"subcategory\")\n",
    "    return df\n",
    "\n",
    "# profiles_df = make_profiles_df(driver, categories_df)\n",
    "# profiles_df.to_csv(\"data/profiles.csv\", index=False)\n",
    "profiles_df = pd.read_csv(\"data/profiles.csv\")\n",
    "profiles_df.head()"
   ]
  },
  {
   "cell_type": "code",
   "execution_count": null,
   "metadata": {},
   "outputs": [],
   "source": []
  },
  {
   "cell_type": "code",
   "execution_count": null,
   "metadata": {},
   "outputs": [],
   "source": []
  },
  {
   "cell_type": "code",
   "execution_count": 13,
   "metadata": {},
   "outputs": [],
   "source": [
    "def parse_profile(driver, profile_url):\n",
    "    print(profile_url)\n",
    "    page = get_page_contents(driver, profile_url)    \n",
    "    soup = BeautifulSoup(page)\n",
    "    print(soup)\n",
    "    votes = soup.find_all(\"div\", {\"class\" : re.compile(re.compile('.*vote-breakdown-container.*'))})\n",
    "    votes = [v.find_all(\"p\") for v in votes]\n",
    "    labels = [\"votes_\"+re.findall(r'(?<=\\<p\\>)(.*)(?=\\()', str(v))[0].strip() for v in votes]\n",
    "    scores = [re.findall(r'(?<=\\()(.*)(?=\\))', str(v))[0].strip() for v in votes]\n",
    "    d = dict(zip(labels, scores))\n",
    "    print(d)\n",
    "    letters = soup.find_all(\"div\", {\"class\" : re.compile(re.compile('.*breakdown-item.*'))})\n",
    "    labels = [l.find(\"h1\", {\"class\" : re.compile(re.compile('the-letters'))}).contents[0] for l in letters[:8]]\n",
    "    scores = [l.find(\"h5\").contents[0] for l in letters[:8]]    \n",
    "    d2 = dict(zip(labels, scores))\n",
    "    print(d2)\n",
    "    labels = [l.find(\"p\").contents[0] for l in letters[8:]]\n",
    "    labels2 = [l.find(\"h5\").contents[0] for l in letters[8:]]\n",
    "    d3 = dict(zip(labels, labels2))\n",
    "    print(d3)\n",
    "#     d4 = {\"profile\": profile_url}\n",
    "    return {**d, **d2, **d3}\n",
    "#     return pd.DataFrame.from_dict(data={**d, **d2, **d3}, orient=\"index\").transpose()\n",
    "\n",
    "# driver = initalize_driver()  \n",
    "\n",
    "# ps = []\n",
    "# for p in profiles_df[\"profile\"][:3]:\n",
    "#     ps.append(parse_profile(driver, p))\n",
    "\n",
    "# profiles_full_df = pd.concat(ps,axis=0)\n",
    "    \n",
    "# d = parse_profile(driver, profiles_df[\"profile\"][0])"
   ]
  },
  {
   "cell_type": "code",
   "execution_count": 14,
   "metadata": {},
   "outputs": [
    {
     "name": "stderr",
     "output_type": "stream",
     "text": [
      "/opt/conda/lib/python3.7/site-packages/ipykernel_launcher.py:13: DeprecationWarning: use options instead of chrome_options\n",
      "  del sys.path[0]\n"
     ]
    }
   ],
   "source": [
    "driver.quit()\n",
    "driver = initalize_driver()"
   ]
  },
  {
   "cell_type": "code",
   "execution_count": 15,
   "metadata": {},
   "outputs": [
    {
     "name": "stdout",
     "output_type": "stream",
     "text": [
      "https://www.personality-database.com/profile/449/donald-trump-presidents-of-the-usa-mbti-personality-type\n",
      "<html xmlns=\"http://www.w3.org/1999/xhtml\"><head></head><body></body></html>\n",
      "{}\n",
      "{}\n",
      "{}\n"
     ]
    },
    {
     "data": {
      "text/plain": [
       "{}"
      ]
     },
     "execution_count": 15,
     "metadata": {},
     "output_type": "execute_result"
    }
   ],
   "source": [
    "parse_profile(driver, profiles_df[\"profile\"][0])"
   ]
  },
  {
   "cell_type": "code",
   "execution_count": 74,
   "metadata": {},
   "outputs": [],
   "source": [
    "s = '\"<p>ESTP   (471)</p>, <p class=\"keirsey\">The Promoter</p>\"'"
   ]
  },
  {
   "cell_type": "code",
   "execution_count": 79,
   "metadata": {},
   "outputs": [
    {
     "data": {
      "text/plain": [
       "'ESTP'"
      ]
     },
     "execution_count": 79,
     "metadata": {},
     "output_type": "execute_result"
    }
   ],
   "source": [
    "re.findall(r'(?<=\\<p\\>)(.*)(?=\\()', s)[0].strip()"
   ]
  },
  {
   "cell_type": "code",
   "execution_count": null,
   "metadata": {},
   "outputs": [],
   "source": []
  }
 ],
 "metadata": {
  "kernelspec": {
   "display_name": "Python 3",
   "language": "python",
   "name": "python3"
  },
  "language_info": {
   "codemirror_mode": {
    "name": "ipython",
    "version": 3
   },
   "file_extension": ".py",
   "mimetype": "text/x-python",
   "name": "python",
   "nbconvert_exporter": "python",
   "pygments_lexer": "ipython3",
   "version": "3.7.3"
  }
 },
 "nbformat": 4,
 "nbformat_minor": 2
}
